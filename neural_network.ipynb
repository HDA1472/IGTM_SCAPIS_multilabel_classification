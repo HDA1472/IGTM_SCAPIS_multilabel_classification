{
 "cells": [
  {
   "cell_type": "markdown",
   "metadata": {},
   "source": [
    "# Set-up"
   ]
  },
  {
   "cell_type": "code",
   "execution_count": 179,
   "metadata": {},
   "outputs": [],
   "source": [
    "import pandas as pd\n",
    "import matplotlib.pyplot as plt\n",
    "from sklearn.model_selection import train_test_split\n",
    "import torch\n",
    "import torch.nn as nn\n",
    "import torch.nn.functional as F"
   ]
  },
  {
   "cell_type": "markdown",
   "metadata": {},
   "source": [
    "# Import data"
   ]
  },
  {
   "cell_type": "code",
   "execution_count": 180,
   "metadata": {},
   "outputs": [],
   "source": [
    "scapis = pd.read_csv('data/processed_data/scapis_joined_preprocessed.csv')\n",
    "igt = pd.read_csv('data/processed_data/igt_joined_preprocessed.csv')\n",
    "metadata = pd.read_csv('data/processed_data/metadata_preprocessed.csv')"
   ]
  },
  {
   "cell_type": "code",
   "execution_count": 181,
   "metadata": {},
   "outputs": [
    {
     "data": {
      "text/html": [
       "<div>\n",
       "<style scoped>\n",
       "    .dataframe tbody tr th:only-of-type {\n",
       "        vertical-align: middle;\n",
       "    }\n",
       "\n",
       "    .dataframe tbody tr th {\n",
       "        vertical-align: top;\n",
       "    }\n",
       "\n",
       "    .dataframe thead th {\n",
       "        text-align: right;\n",
       "    }\n",
       "</style>\n",
       "<table border=\"1\" class=\"dataframe\">\n",
       "  <thead>\n",
       "    <tr style=\"text-align: right;\">\n",
       "      <th></th>\n",
       "      <th>Sex</th>\n",
       "      <th>Age</th>\n",
       "      <th>Smoke_status</th>\n",
       "      <th>MAP_Mean</th>\n",
       "      <th>HbA1c</th>\n",
       "      <th>Chol</th>\n",
       "      <th>LDL</th>\n",
       "      <th>HDL</th>\n",
       "      <th>TG</th>\n",
       "      <th>ALT</th>\n",
       "      <th>...</th>\n",
       "      <th>GUSB</th>\n",
       "      <th>SCARF1</th>\n",
       "      <th>CELA3A</th>\n",
       "      <th>CCN3</th>\n",
       "      <th>HYOU1</th>\n",
       "      <th>LILRB2</th>\n",
       "      <th>ST6GAL1</th>\n",
       "      <th>TIE1</th>\n",
       "      <th>SIRPA</th>\n",
       "      <th>CASP3</th>\n",
       "    </tr>\n",
       "  </thead>\n",
       "  <tbody>\n",
       "    <tr>\n",
       "      <th>0</th>\n",
       "      <td>0</td>\n",
       "      <td>59</td>\n",
       "      <td>1</td>\n",
       "      <td>78</td>\n",
       "      <td>35</td>\n",
       "      <td>4.7</td>\n",
       "      <td>3.0</td>\n",
       "      <td>1.90</td>\n",
       "      <td>0.76</td>\n",
       "      <td>0.19</td>\n",
       "      <td>...</td>\n",
       "      <td>-0.5040</td>\n",
       "      <td>-0.2106</td>\n",
       "      <td>0.0820</td>\n",
       "      <td>-0.0710</td>\n",
       "      <td>0.1003</td>\n",
       "      <td>0.1606</td>\n",
       "      <td>-0.4113</td>\n",
       "      <td>-2.0221</td>\n",
       "      <td>-0.3631</td>\n",
       "      <td>-1.1320</td>\n",
       "    </tr>\n",
       "    <tr>\n",
       "      <th>1</th>\n",
       "      <td>0</td>\n",
       "      <td>57</td>\n",
       "      <td>0</td>\n",
       "      <td>131</td>\n",
       "      <td>33</td>\n",
       "      <td>4.9</td>\n",
       "      <td>2.9</td>\n",
       "      <td>1.70</td>\n",
       "      <td>1.50</td>\n",
       "      <td>0.40</td>\n",
       "      <td>...</td>\n",
       "      <td>-0.3155</td>\n",
       "      <td>0.3637</td>\n",
       "      <td>0.7343</td>\n",
       "      <td>0.2531</td>\n",
       "      <td>0.0328</td>\n",
       "      <td>0.3409</td>\n",
       "      <td>-0.2604</td>\n",
       "      <td>0.2079</td>\n",
       "      <td>-1.0626</td>\n",
       "      <td>0.0286</td>\n",
       "    </tr>\n",
       "    <tr>\n",
       "      <th>2</th>\n",
       "      <td>1</td>\n",
       "      <td>51</td>\n",
       "      <td>1</td>\n",
       "      <td>103</td>\n",
       "      <td>42</td>\n",
       "      <td>6.8</td>\n",
       "      <td>3.6</td>\n",
       "      <td>0.98</td>\n",
       "      <td>4.30</td>\n",
       "      <td>0.54</td>\n",
       "      <td>...</td>\n",
       "      <td>2.0403</td>\n",
       "      <td>0.7059</td>\n",
       "      <td>0.8228</td>\n",
       "      <td>0.7173</td>\n",
       "      <td>0.1993</td>\n",
       "      <td>-0.0336</td>\n",
       "      <td>0.1411</td>\n",
       "      <td>0.8053</td>\n",
       "      <td>-0.0228</td>\n",
       "      <td>0.3960</td>\n",
       "    </tr>\n",
       "    <tr>\n",
       "      <th>3</th>\n",
       "      <td>0</td>\n",
       "      <td>54</td>\n",
       "      <td>1</td>\n",
       "      <td>92</td>\n",
       "      <td>34</td>\n",
       "      <td>7.2</td>\n",
       "      <td>5.4</td>\n",
       "      <td>1.40</td>\n",
       "      <td>2.00</td>\n",
       "      <td>0.33</td>\n",
       "      <td>...</td>\n",
       "      <td>-0.3515</td>\n",
       "      <td>0.0699</td>\n",
       "      <td>1.0066</td>\n",
       "      <td>0.6701</td>\n",
       "      <td>0.1653</td>\n",
       "      <td>-0.0150</td>\n",
       "      <td>0.3154</td>\n",
       "      <td>-0.0527</td>\n",
       "      <td>0.3685</td>\n",
       "      <td>-0.0582</td>\n",
       "    </tr>\n",
       "    <tr>\n",
       "      <th>4</th>\n",
       "      <td>1</td>\n",
       "      <td>54</td>\n",
       "      <td>2</td>\n",
       "      <td>83</td>\n",
       "      <td>37</td>\n",
       "      <td>4.2</td>\n",
       "      <td>2.8</td>\n",
       "      <td>0.96</td>\n",
       "      <td>0.81</td>\n",
       "      <td>0.49</td>\n",
       "      <td>...</td>\n",
       "      <td>-0.1522</td>\n",
       "      <td>0.2425</td>\n",
       "      <td>0.9367</td>\n",
       "      <td>0.1271</td>\n",
       "      <td>0.1272</td>\n",
       "      <td>0.1541</td>\n",
       "      <td>0.0736</td>\n",
       "      <td>-0.0461</td>\n",
       "      <td>-0.8490</td>\n",
       "      <td>-0.8921</td>\n",
       "    </tr>\n",
       "  </tbody>\n",
       "</table>\n",
       "<p>5 rows × 1489 columns</p>\n",
       "</div>"
      ],
      "text/plain": [
       "   Sex  Age  Smoke_status  MAP_Mean  HbA1c  Chol  LDL   HDL    TG   ALT  ...  \\\n",
       "0    0   59             1        78     35   4.7  3.0  1.90  0.76  0.19  ...   \n",
       "1    0   57             0       131     33   4.9  2.9  1.70  1.50  0.40  ...   \n",
       "2    1   51             1       103     42   6.8  3.6  0.98  4.30  0.54  ...   \n",
       "3    0   54             1        92     34   7.2  5.4  1.40  2.00  0.33  ...   \n",
       "4    1   54             2        83     37   4.2  2.8  0.96  0.81  0.49  ...   \n",
       "\n",
       "     GUSB  SCARF1  CELA3A    CCN3   HYOU1  LILRB2  ST6GAL1    TIE1   SIRPA  \\\n",
       "0 -0.5040 -0.2106  0.0820 -0.0710  0.1003  0.1606  -0.4113 -2.0221 -0.3631   \n",
       "1 -0.3155  0.3637  0.7343  0.2531  0.0328  0.3409  -0.2604  0.2079 -1.0626   \n",
       "2  2.0403  0.7059  0.8228  0.7173  0.1993 -0.0336   0.1411  0.8053 -0.0228   \n",
       "3 -0.3515  0.0699  1.0066  0.6701  0.1653 -0.0150   0.3154 -0.0527  0.3685   \n",
       "4 -0.1522  0.2425  0.9367  0.1271  0.1272  0.1541   0.0736 -0.0461 -0.8490   \n",
       "\n",
       "    CASP3  \n",
       "0 -1.1320  \n",
       "1  0.0286  \n",
       "2  0.3960  \n",
       "3 -0.0582  \n",
       "4 -0.8921  \n",
       "\n",
       "[5 rows x 1489 columns]"
      ]
     },
     "execution_count": 181,
     "metadata": {},
     "output_type": "execute_result"
    }
   ],
   "source": [
    "igt_in = igt.drop(columns=['DAid'])\n",
    "igt_in['Sex'] = igt_in['Sex'].map({'F': 0, 'M': 1})\n",
    "igt_in['Smoke_status'] = igt_in['Smoke_status'].map({'NEVER': 0, 'EX_SMOKER': 1, 'CURRENT': 2})\n",
    "\n",
    "igt_in.head()"
   ]
  },
  {
   "cell_type": "markdown",
   "metadata": {},
   "source": [
    "# Neural Network"
   ]
  },
  {
   "cell_type": "code",
   "execution_count": 182,
   "metadata": {},
   "outputs": [],
   "source": [
    "class Model(nn.Module):\n",
    "    def __init__(self, in_features=1488, h1=256, h2=64, out_features=2):\n",
    "        super(Model, self).__init__()\n",
    "        self.fc1 = nn.Linear(in_features, h1)\n",
    "        self.fc2 = nn.Linear(h1, h2)\n",
    "        self.out = nn.Linear(h2, out_features)\n",
    "\n",
    "    def forward(self, x):\n",
    "        x = F.relu(self.fc1(x))\n",
    "        x = F.relu(self.fc2(x))\n",
    "        x = self.out(x)\n",
    "        return x"
   ]
  },
  {
   "cell_type": "code",
   "execution_count": 183,
   "metadata": {},
   "outputs": [],
   "source": [
    "torch.manual_seed(123)\n",
    "model = Model()"
   ]
  },
  {
   "cell_type": "code",
   "execution_count": 184,
   "metadata": {},
   "outputs": [],
   "source": [
    "X = igt_in.drop(columns=['Obesity'])\n",
    "y = igt_in['Obesity']"
   ]
  },
  {
   "cell_type": "code",
   "execution_count": 185,
   "metadata": {},
   "outputs": [],
   "source": [
    "# Convert to numpy arrays\n",
    "X = X.values\n",
    "y = y.values"
   ]
  },
  {
   "cell_type": "code",
   "execution_count": 186,
   "metadata": {},
   "outputs": [
    {
     "data": {
      "text/plain": [
       "array([0, 1, 1, ..., 0, 0, 0], dtype=int64)"
      ]
     },
     "execution_count": 186,
     "metadata": {},
     "output_type": "execute_result"
    }
   ],
   "source": [
    "y"
   ]
  },
  {
   "cell_type": "code",
   "execution_count": 187,
   "metadata": {},
   "outputs": [],
   "source": [
    "X_train, X_test, y_train, y_test = train_test_split(X, y, test_size=0.2, random_state=123)"
   ]
  },
  {
   "cell_type": "code",
   "execution_count": 188,
   "metadata": {},
   "outputs": [],
   "source": [
    "X_train = torch.FloatTensor(X_train)\n",
    "X_test = torch.FloatTensor(X_test)\n",
    "y_train = torch.LongTensor(y_train)\n",
    "y_test = torch.LongTensor(y_test)"
   ]
  },
  {
   "cell_type": "code",
   "execution_count": 189,
   "metadata": {},
   "outputs": [],
   "source": [
    "criteria = nn.CrossEntropyLoss()\n",
    "optimizer = torch.optim.Adam(model.parameters(), lr=0.01)"
   ]
  },
  {
   "cell_type": "code",
   "execution_count": 190,
   "metadata": {},
   "outputs": [
    {
     "name": "stdout",
     "output_type": "stream",
     "text": [
      "Epoch 0 and loss is: 0.6311995983123779\n",
      "Epoch 10 and loss is: 0.565320611000061\n",
      "Epoch 20 and loss is: 0.44433674216270447\n",
      "Epoch 30 and loss is: 0.36241012811660767\n",
      "Epoch 40 and loss is: 0.28952476382255554\n"
     ]
    }
   ],
   "source": [
    "epochs = 50\n",
    "losses = []\n",
    "\n",
    "for i in range(epochs):\n",
    "    y_pred = model.forward(X_train)\n",
    "    loss = criteria(y_pred, y_train)\n",
    "    losses.append(loss.detach().numpy())  # Detach the tensor to get the value as numpy array\n",
    "    if i % 10 == 0:\n",
    "        print(f'Epoch {i} and loss is: {loss}')\n",
    "\n",
    "    optimizer.zero_grad()\n",
    "    loss.backward()\n",
    "    optimizer.step()"
   ]
  },
  {
   "cell_type": "code",
   "execution_count": 191,
   "metadata": {},
   "outputs": [
    {
     "data": {
      "text/plain": [
       "[<matplotlib.lines.Line2D at 0x1ff08b15050>]"
      ]
     },
     "execution_count": 191,
     "metadata": {},
     "output_type": "execute_result"
    },
    {
     "data": {
      "image/png": "[encoded data removed]",
      "text/plain": [
       "<Figure size 640x480 with 1 Axes>"
      ]
     },
     "metadata": {},
     "output_type": "display_data"
    }
   ],
   "source": [
    "plt.plot(range(epochs), losses)"
   ]
  },
  {
   "cell_type": "code",
   "execution_count": 192,
   "metadata": {},
   "outputs": [
    {
     "name": "stdout",
     "output_type": "stream",
     "text": [
      "Loss: 0.34461742639541626\n",
      "We got 327 correct! Accuracy: 0.862796833773087\n"
     ]
    }
   ],
   "source": [
    "with torch.no_grad():  # Turn off backpropagation\n",
    "    y_eval = model.forward(X_test)\n",
    "    loss = criteria(y_eval, y_test)\n",
    "    print(f'Loss: {loss}')\n",
    "\n",
    "    correct = 0\n",
    "    for i in range(len(y_test)):\n",
    "        if torch.argmax(y_eval[i]) == y_test[i]:\n",
    "            correct += 1\n",
    "\n",
    "    print(f'We got {correct} correct! Accuracy: {correct/len(y_test)}')"
   ]
  },
  {
   "cell_type": "code",
   "execution_count": null,
   "metadata": {},
   "outputs": [],
   "source": [
    "#torch.save(model.state_dict(), 'models/obesity_nn.pth')"
   ]
  }
 ],
 "metadata": {
  "kernelspec": {
   "display_name": "base",
   "language": "python",
   "name": "python3"
  },
  "language_info": {
   "codemirror_mode": {
    "name": "ipython",
    "version": 3
   },
   "file_extension": ".py",
   "mimetype": "text/x-python",
   "name": "python",
   "nbconvert_exporter": "python",
   "pygments_lexer": "ipython3",
   "version": "3.11.8"
  }
 },
 "nbformat": 4,
 "nbformat_minor": 2
}
